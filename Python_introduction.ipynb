{
 "cells": [
  {
   "cell_type": "code",
   "execution_count": null,
   "id": "8c06c8c8",
   "metadata": {},
   "outputs": [],
   "source": [
    "installation setup :"
   ]
  },
  {
   "cell_type": "code",
   "execution_count": null,
   "id": "3affb193",
   "metadata": {},
   "outputs": [],
   "source": [
    "www.anaconda.com"
   ]
  },
  {
   "cell_type": "code",
   "execution_count": null,
   "id": "03629a9c",
   "metadata": {},
   "outputs": [],
   "source": []
  },
  {
   "cell_type": "code",
   "execution_count": null,
   "id": "3eca9790",
   "metadata": {},
   "outputs": [],
   "source": [
    "Python introduction and overview :"
   ]
  },
  {
   "cell_type": "code",
   "execution_count": null,
   "id": "84fff1a3",
   "metadata": {},
   "outputs": [],
   "source": [
    "Java, C , C++"
   ]
  },
  {
   "cell_type": "code",
   "execution_count": null,
   "id": "35e1268b",
   "metadata": {},
   "outputs": [],
   "source": []
  },
  {
   "cell_type": "code",
   "execution_count": null,
   "id": "184a2693",
   "metadata": {},
   "outputs": [],
   "source": [
    "Understanding the variables :"
   ]
  },
  {
   "cell_type": "code",
   "execution_count": null,
   "id": "24c94c40",
   "metadata": {},
   "outputs": [],
   "source": []
  },
  {
   "cell_type": "code",
   "execution_count": 2,
   "id": "9e329ab5",
   "metadata": {},
   "outputs": [],
   "source": [
    "a = 3\n",
    "\n",
    "b = 5"
   ]
  },
  {
   "cell_type": "code",
   "execution_count": 3,
   "id": "36a62391",
   "metadata": {},
   "outputs": [
    {
     "name": "stdout",
     "output_type": "stream",
     "text": [
      "8\n"
     ]
    }
   ],
   "source": [
    "c = a+b\n",
    "\n",
    "print(c)"
   ]
  },
  {
   "cell_type": "code",
   "execution_count": null,
   "id": "542509b2",
   "metadata": {},
   "outputs": [],
   "source": [
    "Rules for declaring the variables :"
   ]
  },
  {
   "cell_type": "code",
   "execution_count": null,
   "id": "1a137220",
   "metadata": {},
   "outputs": [],
   "source": [
    "Rule No : 1  - No namespaces while declaring the varibale name"
   ]
  },
  {
   "cell_type": "code",
   "execution_count": 4,
   "id": "4be55810",
   "metadata": {},
   "outputs": [
    {
     "ename": "SyntaxError",
     "evalue": "invalid syntax (717505567.py, line 1)",
     "output_type": "error",
     "traceback": [
      "\u001b[1;36m  Input \u001b[1;32mIn [4]\u001b[1;36m\u001b[0m\n\u001b[1;33m    first  name = \"mehvish\"\u001b[0m\n\u001b[1;37m           ^\u001b[0m\n\u001b[1;31mSyntaxError\u001b[0m\u001b[1;31m:\u001b[0m invalid syntax\n"
     ]
    }
   ],
   "source": [
    "first  name = \"mehvish\"\n",
    "\n",
    "print(first name)"
   ]
  },
  {
   "cell_type": "code",
   "execution_count": 5,
   "id": "45c2ffb8",
   "metadata": {},
   "outputs": [
    {
     "name": "stdout",
     "output_type": "stream",
     "text": [
      "Mehvish\n"
     ]
    }
   ],
   "source": [
    "firstname = \"Mehvish\"\n",
    "\n",
    "print(firstname)"
   ]
  },
  {
   "cell_type": "code",
   "execution_count": 10,
   "id": "9643214f",
   "metadata": {},
   "outputs": [
    {
     "ename": "SyntaxError",
     "evalue": "invalid syntax (2724757633.py, line 1)",
     "output_type": "error",
     "traceback": [
      "\u001b[1;36m  Input \u001b[1;32mIn [10]\u001b[1;36m\u001b[0m\n\u001b[1;33m    first name  = 'mehvish'\u001b[0m\n\u001b[1;37m          ^\u001b[0m\n\u001b[1;31mSyntaxError\u001b[0m\u001b[1;31m:\u001b[0m invalid syntax\n"
     ]
    }
   ],
   "source": [
    "first_name  = 'mehvish'\n",
    "\n",
    "print(first_name)"
   ]
  },
  {
   "cell_type": "code",
   "execution_count": null,
   "id": "555baf44",
   "metadata": {},
   "outputs": [],
   "source": []
  },
  {
   "cell_type": "code",
   "execution_count": null,
   "id": "d6bc38b9",
   "metadata": {},
   "outputs": [],
   "source": []
  },
  {
   "cell_type": "code",
   "execution_count": null,
   "id": "f34cfd67",
   "metadata": {},
   "outputs": [],
   "source": [
    "Rule No 2 : A varible name should not start with a number **"
   ]
  },
  {
   "cell_type": "code",
   "execution_count": 6,
   "id": "f896e59d",
   "metadata": {},
   "outputs": [
    {
     "ename": "SyntaxError",
     "evalue": "invalid syntax (645546121.py, line 1)",
     "output_type": "error",
     "traceback": [
      "\u001b[1;36m  Input \u001b[1;32mIn [6]\u001b[1;36m\u001b[0m\n\u001b[1;33m    1name = 'david'\u001b[0m\n\u001b[1;37m     ^\u001b[0m\n\u001b[1;31mSyntaxError\u001b[0m\u001b[1;31m:\u001b[0m invalid syntax\n"
     ]
    }
   ],
   "source": [
    "1name = 'david'\n",
    "\n",
    "print(1name)"
   ]
  },
  {
   "cell_type": "code",
   "execution_count": 7,
   "id": "1f36d83e",
   "metadata": {},
   "outputs": [
    {
     "name": "stdout",
     "output_type": "stream",
     "text": [
      "david\n"
     ]
    }
   ],
   "source": [
    "name1 = 'david'\n",
    "\n",
    "print(name1)"
   ]
  },
  {
   "cell_type": "code",
   "execution_count": null,
   "id": "ca629c13",
   "metadata": {},
   "outputs": [],
   "source": [
    "Rule No 3 : A varible name should not contain any special characters \n",
    "    \n",
    "    @ # $ % ^ &..."
   ]
  },
  {
   "cell_type": "code",
   "execution_count": 8,
   "id": "737a9102",
   "metadata": {},
   "outputs": [
    {
     "ename": "SyntaxError",
     "evalue": "invalid syntax (211655149.py, line 1)",
     "output_type": "error",
     "traceback": [
      "\u001b[1;36m  Input \u001b[1;32mIn [8]\u001b[1;36m\u001b[0m\n\u001b[1;33m    name@ = 'roohi'\u001b[0m\n\u001b[1;37m          ^\u001b[0m\n\u001b[1;31mSyntaxError\u001b[0m\u001b[1;31m:\u001b[0m invalid syntax\n"
     ]
    }
   ],
   "source": [
    "name@ = 'roohi'\n",
    "\n",
    "print(name@)"
   ]
  },
  {
   "cell_type": "code",
   "execution_count": null,
   "id": "dc4644cb",
   "metadata": {},
   "outputs": [],
   "source": []
  },
  {
   "cell_type": "code",
   "execution_count": null,
   "id": "242048ca",
   "metadata": {},
   "outputs": [],
   "source": [
    "www.github.com"
   ]
  },
  {
   "cell_type": "code",
   "execution_count": null,
   "id": "c27ddf2a",
   "metadata": {},
   "outputs": [],
   "source": []
  },
  {
   "cell_type": "code",
   "execution_count": null,
   "id": "d665b7be",
   "metadata": {},
   "outputs": [],
   "source": []
  }
 ],
 "metadata": {
  "kernelspec": {
   "display_name": "Python 3 (ipykernel)",
   "language": "python",
   "name": "python3"
  },
  "language_info": {
   "codemirror_mode": {
    "name": "ipython",
    "version": 3
   },
   "file_extension": ".py",
   "mimetype": "text/x-python",
   "name": "python",
   "nbconvert_exporter": "python",
   "pygments_lexer": "ipython3",
   "version": "3.9.12"
  }
 },
 "nbformat": 4,
 "nbformat_minor": 5
}
